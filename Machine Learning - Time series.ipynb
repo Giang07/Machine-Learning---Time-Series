{
 "cells": [
  {
   "cell_type": "markdown",
   "metadata": {},
   "source": [
    "# Introduction\n",
    "- Goal: Develop a forecasting algorithm to predict sales per item for any specified date.\n",
    "\n",
    "The steps includes:\n",
    "1. Load data\n",
    "2. Plot data\n",
    "3. Build model:\n",
    "   - ARIMA\n",
    "   - Seasonal ARIMA\n",
    "   - FBProphet"
   ]
  },
  {
   "cell_type": "markdown",
   "metadata": {},
   "source": [
    "# 1. Load Data"
   ]
  },
  {
   "cell_type": "code",
   "execution_count": null,
   "metadata": {},
   "outputs": [],
   "source": [
    "import pandas as pd\n",
    "import matplotlib.pyplot as plt\n",
    "import numpy as np\n",
    "\n",
    "df = pd.read_excel('file.xlsx', parse_dates=True, index_col='Sales date', decimal=',')"
   ]
  },
  {
   "cell_type": "markdown",
   "metadata": {},
   "source": [
    "# 2. Plot data"
   ]
  },
  {
   "cell_type": "code",
   "execution_count": null,
   "metadata": {},
   "outputs": [],
   "source": [
    "# Sum sales per day\n",
    "df2 = df.resample('D')['Total'].sum()\n",
    "\n",
    "plt.style.use('seaborn-whitegrid')\n",
    "\n",
    "df2.plot(figsize=(14, 5))\n",
    "plt.ylabel('Total')\n",
    "plt.title('Total Sales per Day')\n",
    "plt.show();"
   ]
  },
  {
   "cell_type": "code",
   "execution_count": null,
   "metadata": {},
   "outputs": [],
   "source": [
    "# Sum sales per month\n",
    "\n",
    "df.resample('M')['Total'].sum().plot(figsize=(10,5))\n",
    "plt.ylabel('Total')\n",
    "plt.title('Total Sales per Month')\n",
    "plt.show();"
   ]
  },
  {
   "cell_type": "code",
   "execution_count": null,
   "metadata": {},
   "outputs": [],
   "source": [
    "# Sales per day in different months\n",
    "\n",
    "df_tmp = df.resample('D')['Total'].sum()['2017-04-01':].copy()\n",
    "months = {n: g.reset_index() for n, g in df_tmp.groupby(pd.Grouper(freq='M'))}\n",
    "plt.figure(figsize=(14, 8))\n",
    "for n, g in months.items():\n",
    "    plt.plot(g.index, g['Total'], label=str(n)[:7])\n",
    "plt.title('Sales per day in different months')\n",
    "plt.ylabel('Total')\n",
    "plt.xlabel('Day')\n",
    "plt.legend()\n",
    "plt.show()   "
   ]
  },
  {
   "cell_type": "code",
   "execution_count": null,
   "metadata": {},
   "outputs": [],
   "source": [
    "# Sales per day in different weeks\n",
    "\n",
    "df_tmp = df.resample('D')['Total'].sum()['2017-04-01':].copy()\n",
    "weeks = {n: g.reset_index() for n, g in df_tmp.groupby(pd.Grouper(freq='W'))}\n",
    "fig, ax = plt.subplots(figsize=(14, 8))\n",
    "x = np.array(['TMP', 'MON', 'TUE', 'WED', 'THU', 'FRI', 'SAT', 'SUN'])\n",
    "ax.set_xticklabels(x)\n",
    "for n, g in weeks.items():\n",
    "    plt.plot(g.index, g['Total'], label=str(n)[:10])\n",
    "plt.title('Sales per day in different weeks')\n",
    "plt.ylabel('Total')\n",
    "plt.xlabel('Day')\n",
    "plt.legend()\n",
    "plt.show()    "
   ]
  },
  {
   "cell_type": "code",
   "execution_count": null,
   "metadata": {},
   "outputs": [],
   "source": [
    "# Average sale per dag in a week\n",
    "\n",
    "d = {}\n",
    "for g in weeks.values():\n",
    "    for i in range(g.shape[0]):\n",
    "        d[i] = d.get(i, []) + [g.loc[i, 'Total']]\n",
    "m = pd.DataFrame.from_dict({i: np.array(x).mean() for i, x in d.items()}, orient='index')\n",
    "m.set_index(x[1:], drop=True).plot(legend=None,\n",
    "                                   figsize=(13, 5),\n",
    "                                  title='Average Sales per Day in a Week'\n",
    "                                  );"
   ]
  },
  {
   "cell_type": "markdown",
   "metadata": {},
   "source": [
    "# 3. Build model"
   ]
  },
  {
   "cell_type": "code",
   "execution_count": null,
   "metadata": {},
   "outputs": [],
   "source": [
    "sku1 = pd.DataFrame(df1_unstack.iloc[0, :])\n",
    "sku1.plot(figsize=(14, 5));"
   ]
  },
  {
   "cell_type": "code",
   "execution_count": null,
   "metadata": {},
   "outputs": [],
   "source": [
    "weeks = {n: g.reset_index() for n, g in sku1.groupby(pd.Grouper(freq='W'))}\n",
    "fig, ax = plt.subplots(figsize=(14, 8))\n",
    "x = np.array(['TMP', 'MON', 'TUE', 'WED', 'THU', 'FRI', 'SAT', 'SUN'])\n",
    "ax.set_xticklabels(x)\n",
    "for n, g in weeks.items():\n",
    "    plt.plot(g.index, g['Total'], label=str(n)[:10])\n",
    "plt.title('Sales per day in different weeks')\n",
    "plt.ylabel('Total')\n",
    "plt.xlabel('Day')\n",
    "plt.legend()'x'\n",
    "plt.show()    "
   ]
  },
  {
   "cell_type": "markdown",
   "metadata": {},
   "source": [
    "## 3.1.1. ARIMA"
   ]
  },
  {
   "cell_type": "code",
   "execution_count": null,
   "metadata": {
    "scrolled": false
   },
   "outputs": [],
   "source": [
    "import matplotlib.pyplot as plt\n",
    "from statsmodels.tsa.arima_model import ARIMA\n",
    "from sklearn.metrics import mean_squared_error\n",
    " \n",
    "X = sku1.values\n",
    "size = int(len(X) * .8) # train has 80% of all data\n",
    "train, test = X[0:size], X[size:len(X)]\n",
    "history = [x for x in train]\n",
    "predictions = list()\n",
    "for t in range(len(test)):    \n",
    "    model = ARIMA(history, order=(5,1,0))\n",
    "    model_fit = model.fit(disp=0)\n",
    "    output = model_fit.forecast()\n",
    "    yhat = output[0]\n",
    "    predictions.append(yhat)\n",
    "    obs = test[t]\n",
    "    history.append(obs)\n",
    "#     print('predicted=%f, expected=%f' % (yhat, obs))\n",
    "mse = mean_squared_error(test, predictions)\n",
    "print('The Mean Squared Error of SARIMAX: {}'.format(round(mse, 2)))\n",
    "# plot\n",
    "plt.figsize = (14, 5)\n",
    "plt.plot(test)\n",
    "plt.plot(predictions, color='red')\n",
    "plt.show()"
   ]
  },
  {
   "cell_type": "markdown",
   "metadata": {},
   "source": [
    "## 3.1.2. Seasonal ARIMA"
   ]
  },
  {
   "cell_type": "code",
   "execution_count": null,
   "metadata": {},
   "outputs": [],
   "source": [
    "import itertools\n",
    "\n",
    "p = d = q = range(0, 2)\n",
    "pdq = list(itertools.product(p, d, q))\n",
    "seasonal_pdq = [(x[0], x[1], x[2], 7) for x in pdq]\n",
    "\n",
    "result_all = []\n",
    "for param in pdq:\n",
    "    for param_seasonal in seasonal_pdq:\n",
    "        try:\n",
    "            mod = sm.tsa.statespace.SARIMAX(train,\n",
    "                                            order=param,\n",
    "                                            seasonal_order=param_seasonal,\n",
    "                                            enforce_stationarity=False,\n",
    "                                            enforce_invertibility=False,\n",
    "                                           )\n",
    "            results = mod.fit()\n",
    "            result_all.append(results.aic)\n",
    "            print('ARIMA{}x{}7 - AIC:{}'.format(param, param_seasonal, results.aic))\n",
    "        except:\n",
    "            continue\n",
    "            \n",
    "mod = sm.tsa.statespace.SARIMAX(sku1.iloc[:size],\n",
    "                    order=(1, 1, 1),\n",
    "                    seasonal_order=(0, 1, 1, 7),\n",
    "                    enforce_stationarity=False,\n",
    "                    enforce_invertibility=False\n",
    "                   )\n",
    "results = mod.fit()"
   ]
  },
  {
   "cell_type": "markdown",
   "metadata": {},
   "source": [
    "### Validate Forcast"
   ]
  },
  {
   "cell_type": "code",
   "execution_count": null,
   "metadata": {},
   "outputs": [],
   "source": [
    "pred = results.get_prediction(start=sku1.index[size], end=sku1.index[-1], dynamic=False)\n",
    "pred_ci = pred.conf_int()\n",
    "ax = sku1.plot(label='observed')\n",
    "pred.predicted_mean.plot(ax=ax, label='One-step ahead Forecast', alpha=.7, figsize=(14, 7))\n",
    "ax.fill_between(pred_ci.index,\n",
    "                pred_ci.iloc[:, 0],\n",
    "                pred_ci.iloc[:, 1], color='k', alpha=.2)\n",
    "ax.set_xlabel('Date')\n",
    "ax.set_ylabel('Sales')\n",
    "plt.legend()\n",
    "plt.show()"
   ]
  },
  {
   "cell_type": "code",
   "execution_count": null,
   "metadata": {
    "scrolled": true
   },
   "outputs": [],
   "source": [
    "y_forecasted = pred.predicted_mean\n",
    "y_truth = sku1.iloc[size:]\n",
    "mse = ((y_forecasted.values - y_truth.values) ** 2).mean()\n",
    "print('The Mean Squared Error of SARIMAX: {}'.format(round(mse, 2)))"
   ]
  },
  {
   "cell_type": "code",
   "execution_count": null,
   "metadata": {},
   "outputs": [],
   "source": [
    "pred_uc = results.get_forecast(steps=90)\n",
    "pred_ci = pred_uc.conf_int()\n",
    "ax = sku1[:size].plot(label='observed', figsize=(14, 7))\n",
    "pred_uc.predicted_mean.plot(ax=ax, label='Forecast')\n",
    "ax.fill_between(pred_ci.index,\n",
    "                pred_ci.iloc[:, 0],\n",
    "                pred_ci.iloc[:, 1], color='k', alpha=.25)\n",
    "ax.set_xlabel('Date')\n",
    "ax.set_ylabel('Sales')\n",
    "plt.legend()\n",
    "plt.show()"
   ]
  },
  {
   "cell_type": "markdown",
   "metadata": {},
   "source": [
    "## FBProphet"
   ]
  },
  {
   "cell_type": "code",
   "execution_count": null,
   "metadata": {},
   "outputs": [],
   "source": [
    "!pip install holidays==0.9.12\n",
    "from fbprophet import Prophet\n",
    "\n",
    "m = Prophet()\n",
    "m.add_country_holidays(country_name='NO')\n",
    "sku_prophet = sku1.reset_index().rename(columns={'Sales date': 'ds', 'Total': 'y'})\n",
    "size = int(sku_prophet.shape[0] * .8)\n",
    "train, test = sku_prophet[:size], sku_prophet[size:]\n",
    "future = test[['ds']]\n",
    "m.fit(train)\n",
    "forecast = m.predict(future)\n",
    "fig1 = m.plot(forecast)\n",
    "\n",
    "forecast[['ds', 'yhat', 'yhat_lower', 'yhat_upper']]\n",
    "\n",
    "f1 = forecast[['ds', 'yhat', 'yhat_lower', 'yhat_upper']]\n",
    "f2 = f1.merge(test)\n",
    "\n",
    "mse = ((f2.yhat-f2.y)**2).mean()\n",
    "print('The Mean Squared Error of our forecasts is {}'.format(round(mse, 2)))\n",
    "\n",
    "future = m.make_future_dataframe(periods=90)\n",
    "\n",
    "forecast = m.predict(future)\n",
    "fig1 = m.plot(forecast)"
   ]
  }
 ],
 "metadata": {
  "kernelspec": {
   "display_name": "Python 3",
   "language": "python",
   "name": "python3"
  },
  "language_info": {
   "codemirror_mode": {
    "name": "ipython",
    "version": 3
   },
   "file_extension": ".py",
   "mimetype": "text/x-python",
   "name": "python",
   "nbconvert_exporter": "python",
   "pygments_lexer": "ipython3",
   "version": "3.7.6"
  }
 },
 "nbformat": 4,
 "nbformat_minor": 4
}
